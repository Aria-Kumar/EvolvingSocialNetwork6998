{
 "cells": [
  {
   "cell_type": "code",
   "execution_count": 2,
   "metadata": {
    "collapsed": false
   },
   "outputs": [
    {
     "name": "stdout",
     "output_type": "stream",
     "text": [
      "The character pair of interest\n",
      "(1, 3)\n",
      "extracted words are: \n",
      "set()\n",
      "False\n",
      "[]\n",
      "[]\n",
      "[]\n",
      "['invite_v', 'Mrs._n', 'Barker_n', 'to_a', 'sit_v', ';_a', 'Mommy_n', 'offer_v', 'she_a', 'a_a', 'cigarette_n', ',_a', 'a_a', 'drink_n', ',_a', 'and_a', 'the_a', 'opportunity_n', 'to_a', 'cross_v']\n"
     ]
    }
   ],
   "source": [
    "from Corpus import *\n",
    "from Features_rz import *\n",
    "\n",
    "# reading the texts and picking a sentence\n",
    "author_name = 'albee.dream' # file name\n",
    "passage = Passage(author_name)\n",
    "sequence_dict = passage.sequence_dict\n",
    "char_pair = (1,3)\n",
    "sentence_array = sequence_dict[char_pair].sentence_seq # sentence array is\n",
    "sentence = sentence_array[5] # getting the first sentence of the sequence\n",
    "# print('The sentence of interest')\n",
    "# print(sentence)\n",
    "print('The character pair of interest')\n",
    "# print(char_pair)\n",
    "# print(char_deprel_set(sentence, 2, 'dobj', debug=True))\n",
    "are_team_feature = are_team(sentence, char_pair)\n",
    "print('Are team')\n",
    "print(are_team_feature)\n",
    "act_together_words = act_together(sentence, char_pair)\n",
    "print('Act together')\n",
    "print(act_together_words)\n",
    "surrogate_act_together_words = surrogate_act_together(sentence, char_pair)\n",
    "print(surrogate_act_together_words)\n",
    "adverb_used_words = adverbs_used(sentence, char_pair)\n",
    "print(adverb_used_words)\n",
    "in_between_words = in_between(sentence, char_pair)\n",
    "print(in_between_words)"
   ]
  }
 ],
 "metadata": {
  "anaconda-cloud": {},
  "kernelspec": {
   "display_name": "Python [default]",
   "language": "python",
   "name": "python3"
  },
  "language_info": {
   "codemirror_mode": {
    "name": "ipython",
    "version": 3
   },
   "file_extension": ".py",
   "mimetype": "text/x-python",
   "name": "python",
   "nbconvert_exporter": "python",
   "pygments_lexer": "ipython3",
   "version": "3.5.2"
  }
 },
 "nbformat": 4,
 "nbformat_minor": 2
}
