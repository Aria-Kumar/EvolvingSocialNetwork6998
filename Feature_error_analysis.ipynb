{
 "cells": [
  {
   "cell_type": "code",
   "execution_count": 12,
   "metadata": {
    "collapsed": false
   },
   "outputs": [],
   "source": [
    "from Corpus import *\n",
    "from Features_rz import *\n",
    "\n",
    "# reading the texts and picking a sentence\n",
    "author_name = 'agee.death' # file name\n",
    "passage = Passage(author_name)\n",
    "sequence_dict = passage.sequence_dict"
   ]
  },
  {
   "cell_type": "code",
   "execution_count": 14,
   "metadata": {
    "collapsed": false
   },
   "outputs": [
    {
     "name": "stdout",
     "output_type": "stream",
     "text": [
      "     paragraphId  sentenceID  tokenId  beginOffset  endOffset whitespaceAfter  \\\n",
      "750            9          40      750         3534       3540               S   \n",
      "751            9          40      751         3541       3546               S   \n",
      "752            9          40      752         3547       3552               S   \n",
      "753            9          40      753         3553       3555               S   \n",
      "754            9          40      754         3556       3561               S   \n",
      "755            9          40      755         3562       3565             NaN   \n",
      "756            9          40      756         3565       3567               S   \n",
      "757            9          40      757         3568       3572               S   \n",
      "758            9          40      758         3573       3575               S   \n",
      "759            9          40      759         3576       3579               S   \n",
      "760            9          40      760         3580       3586               S   \n",
      "761            9          40      761         3587       3592               S   \n",
      "762            9          40      762         3593       3596               S   \n",
      "763            9          40      763         3597       3602             NaN   \n",
      "764            9          40      764         3602       3603               S   \n",
      "\n",
      "     headTokenId originalWord normalizedWord   lemma  pos     ner      deprel  \\\n",
      "750          751       Andrew         Andrew  Andrew  NNP  PERSON       nsubj   \n",
      "751           -1        calls          calls    call  VBZ       O        null   \n",
      "752          754        Ralph          Ralph   Ralph  NNP  PERSON       nsubj   \n",
      "753          754           to             to      to   TO       O         aux   \n",
      "754          751        alert          alert   alert   VB       O       xcomp   \n",
      "755          757          Jay            Jay     Jay  NNP  PERSON        poss   \n",
      "756          755           's             's      's  POS       O  possessive   \n",
      "757          754         side           side    side   NN       O        dobj   \n",
      "758          757           of             of      of   IN       O        prep   \n",
      "759          760          the            the     the   DT       O         det   \n",
      "760          758       family         family  family   NN       O        pobj   \n",
      "761          757        about          about   about   IN       O        prep   \n",
      "762          763          the            the     the   DT       O         det   \n",
      "763          761        death          death   death   NN       O        pobj   \n",
      "764          751            .              .       .    .       O       punct   \n",
      "\n",
      "    inQuotation  characterId  correctedCharId ClustersAssignments(,separated)  \\\n",
      "750       False            9                9                             c34   \n",
      "751       False           -1               -1                            null   \n",
      "752       False            0                0                             c14   \n",
      "753       False           -1               -1                            null   \n",
      "754       False           -1               -1                            null   \n",
      "755       False            1                1                          c4,c46   \n",
      "756       False           -1               -1                          c4,c46   \n",
      "757       False           -1               -1                             c46   \n",
      "758       False           -1               -1                             c46   \n",
      "759       False           -1               -1                             c46   \n",
      "760       False           -1               -1                             c46   \n",
      "761       False           -1               -1                             c46   \n",
      "762       False           -1               -1                          c1,c46   \n",
      "763       False           -1               -1                          c1,c46   \n",
      "764       False           -1               -1                            null   \n",
      "\n",
      "    isRepresentativeOfClusters(,separated)  \\\n",
      "750                                   null   \n",
      "751                                   null   \n",
      "752                                   null   \n",
      "753                                   null   \n",
      "754                                   null   \n",
      "755                                    c46   \n",
      "756                                    c46   \n",
      "757                                    c46   \n",
      "758                                    c46   \n",
      "759                                    c46   \n",
      "760                                    c46   \n",
      "761                                    c46   \n",
      "762                                    c46   \n",
      "763                                    c46   \n",
      "764                                   null   \n",
      "\n",
      "    ListOfCollapsedHeadTokIds(,separated) ListOfCollapsedDeprels(,separated)  \n",
      "750                                   751                              nsubj  \n",
      "751                                    -1                               root  \n",
      "752                                   751                               dobj  \n",
      "753                                   754                               mark  \n",
      "754                                   751                              xcomp  \n",
      "755                                   757                          nmod:poss  \n",
      "756                                   755                               case  \n",
      "757                                   754                               dobj  \n",
      "758                                   760                               case  \n",
      "759                                   760                                det  \n",
      "760                                   757                            nmod:of  \n",
      "761                                   763                               case  \n",
      "762                                   763                                det  \n",
      "763                                   760                         nmod:about  \n",
      "764                                  null                               null  \n",
      "Complete sentence: Andrew calls Ralph to alert Jay 's side of the family about the death .\n",
      "Characters(id) involved: 0, 9, 1\n",
      "Character pairs: (0, 9), (0, 1), (1, 9)\n",
      "In this sentence, the word representing the characters are\n",
      "0: Ralph\n",
      "9: Andrew\n",
      "1: Jay\n",
      "-------------------\n",
      "The character pair of interest\n",
      "(0, 9)\n",
      "Are team\n",
      "False\n",
      "Act together\n",
      "[]\n",
      "Surrogate action words\n",
      "[]\n",
      "Adverb used\n",
      "[]\n",
      "Words in between\n",
      "['call_v']\n"
     ]
    }
   ],
   "source": [
    "char_pair = (0,9)\n",
    "sentence_array = sequence_dict[char_pair].sentence_seq # sentence array is\n",
    "sentence = sentence_array[0] # getting the first sentence of the sequence\n",
    "print(sentence)\n",
    "print('The character pair of interest')\n",
    "print(char_pair)\n",
    "are_team_feature = are_team(sentence, char_pair)\n",
    "print('Are team')\n",
    "print(are_team_feature)\n",
    "act_together_words = act_together(sentence, char_pair)\n",
    "print('Act together')\n",
    "print(act_together_words)\n",
    "surrogate_act_together_words = surrogate_act_together(sentence, char_pair)\n",
    "print('Surrogate action words')\n",
    "print(surrogate_act_together_words)\n",
    "adverb_used_words = adverbs_used(sentence, char_pair)\n",
    "print('Adverb used')\n",
    "print(adverb_used_words)\n",
    "print('Words in between')\n",
    "in_between_words = in_between(sentence, char_pair)\n",
    "print(in_between_words)"
   ]
  },
  {
   "cell_type": "code",
   "execution_count": 15,
   "metadata": {
    "collapsed": false
   },
   "outputs": [
    {
     "name": "stdout",
     "output_type": "stream",
     "text": [
      "({754}, {751}, set(), set())\n"
     ]
    }
   ],
   "source": [
    "print(get_general_deprel_sets(sentence, (0, 9)))"
   ]
  }
 ],
 "metadata": {
  "anaconda-cloud": {},
  "kernelspec": {
   "display_name": "Python [default]",
   "language": "python",
   "name": "python3"
  },
  "language_info": {
   "codemirror_mode": {
    "name": "ipython",
    "version": 3
   },
   "file_extension": ".py",
   "mimetype": "text/x-python",
   "name": "python",
   "nbconvert_exporter": "python",
   "pygments_lexer": "ipython3",
   "version": "3.5.2"
  }
 },
 "nbformat": 4,
 "nbformat_minor": 2
}
